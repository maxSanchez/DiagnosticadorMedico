{
 "cells": [
  {
   "cell_type": "markdown",
   "metadata": {},
   "source": [
    "# Experimento 4\n",
    "Este experimento fue principalmente para verificar que pasa cuando no se tom unicamente el valor de tf-idf más grande, esto es por que en el experimento 3 se omitian estos valores, con el siguiente código vamos a obtener los vectores que vienen dados por la vectorización directa de los documentos usando tf-idf."
   ]
  },
  {
   "cell_type": "code",
   "execution_count": 1,
   "metadata": {},
   "outputs": [],
   "source": [
    "import sys,traceback\n",
    "import unicodedata\n",
    "import pickle\n",
    "import numpy as np\n",
    "from scipy.spatial import distance\n",
    "import time\n",
    "from math import exp,log\n",
    "\n",
    "def tf(doc,p): #Código para obtener tf standard\n",
    "\treturn doc.count(p)/len(doc)\n",
    "\n",
    "def idf(docs,p,th): #código para obtener idf standard, con una restricción\n",
    "\tcont=0\n",
    "\tfor d in docs:\n",
    "\t\tif p in d:\n",
    "\t\t\tcont+=1\n",
    "\tif cont<th:\n",
    "\t\treturn 0\n",
    "\telse:\n",
    "\t\treturn log(len(docs)/cont,10)\n",
    "\n",
    "def splitInv(cad,caracteres,stopwords): \n",
    "    #split inverso que divide una cadena en subcadenas cuando\n",
    "    #encuentra un caracter que no este en el set caracteres y\n",
    "    #detiene palabras que esten en el set stopwords\n",
    "\tarreglo=[]\n",
    "\taux=\"\"\n",
    "\tfor c in cad:\n",
    "\t\tif c not in caracteres :\n",
    "\t\t\tif aux.rstrip('sao')!=\"\" and aux not in stopwords:\n",
    "\t\t\t\tarreglo.append(aux.rstrip('sao'))\n",
    "\t\t\taux=\"\"\n",
    "\t\telse:\n",
    "\t\t\taux+=c\n",
    "\t# print(arreglo)\n",
    "\treturn arreglo\n",
    "\n",
    "def trnDocs(rawdocs,stopwords): \n",
    "    #transforma todos los documentos crudos a listas de palabras y detiene palabras\n",
    "\tdocs={}\n",
    "\tfor e,d in rawdocs.items():\n",
    "\t\tdocs[e]=splitInv(unicodedata.normalize('NFKD',d),\"qwertyuiopasdfghjklzxcvbnm\",stopwords)\n",
    "\treturn docs\n",
    "\n",
    "def getVoc(docs,th=1,th2=0.1):\n",
    "    #encuentra el vocabulario, usa restricciones para saber si acepta la palabra o no\n",
    "\tvocab=[]\n",
    "\tfor d in docs:\n",
    "\t\tfor p in d:\n",
    "\t\t\tif p not in [v[0] for v in vocab]:\n",
    "\t\t\t\taux=idf(docs,p,th)\n",
    "\t\t\t\t# print(aux)\n",
    "\t\t\t\tif aux>=th2:\n",
    "\t\t\t\t\tvocab.append((p,aux))\n",
    "\treturn vocab\n",
    "\n",
    "def leer(corpus):\n",
    "    #lee el corpus\n",
    "\twith open(corpus,\"r\") as f:\n",
    "\t\tfor line in f:\n",
    "\t\t\tyield line.split(\"|\",1)\n",
    "\n",
    "\n",
    "def doc2Vec(doc,vocab,funcion):\n",
    "    #transforma los documentos a vectores\n",
    "\twith open(\"../Experimento3/stopwords-es-master/stopwords-es.txt\",\"r\") as f:\n",
    "\t    stopwords=f.read().splitlines()\n",
    "\ttry:\n",
    "\t\tpalabras=splitInv(unicodedata.normalize('NFKD',doc),\"qwertyuiopasdfghjklzxcvbnm\",stopwords)\n",
    "\texcept Exception as e:\n",
    "\t\tprint(e,end=\"\\r\")\n",
    "\t\tpalabras=doc\n",
    "\tvector=[]\n",
    "\tfor key,value in vocab:\n",
    "\t\tvector.append(tf(palabras,key)*funcion(value)) #aqui probé diferentes funciones, pero daban resultados similares\n",
    "\t# print(vocab)\n",
    "\treturn np.array(vector).reshape(1,-1)\n",
    "\n",
    "def crearVectores(archCorpus,archPickle,funcion):\n",
    "    #Esta función crea los vectores y los guarda en un pickle\n",
    "\twith open(\"../Experimento3/stopwords-es-master/stopwords-es.txt\",\"r\") as f:\n",
    "\t    stopwords=f.read().splitlines()\n",
    "\tti=time.time()\n",
    "\tcorpus=dict(leer(archCorpus))\n",
    "\tprint(\"Corpus leido\")\n",
    "\tdocs=trnDocs(corpus,stopwords)\n",
    "\tprint(\"Documentos normalizados\")\n",
    "\tvocab=getVoc(docs.values(),2,0.1)\n",
    "\tprint(\"Vocabulario obtenido\")\n",
    "\tvectores=[(n,doc2Vec(d,vocab,funcion)) for n,d in docs.items()]\n",
    "\tprint(\"Vectores obtenidos\")\n",
    "\tprint(\"Me tarde : \",time.time()-ti)\n",
    "\tpickle.dump([vectores,vocab],open(archPickle,\"wb\"))\n",
    "\treturn [vectores,vocab]\n",
    "\n",
    "def leerVectores(archPickle):\n",
    "\treturn pickle.load(open(archPickle,\"rb\"))\n",
    "\n",
    "\n",
    "def predecir(archSintomas,vectores,vocab,funcion):\n",
    "\tsintomas=open(archSintomas,\"r\").read()\n",
    "\tvector=doc2Vec(sintomas,vocab,funcion)\n",
    "\tdocs=[]\n",
    "\tfor n,v in vectores:\n",
    "\t\t# docs.append([n,distance.cdist( vector,v, 'wminkowski',w=np.random.rand(v.shape[0]))])\n",
    "\t\t# docs.append([n,distance.cdist( vector,v, 'matching')])\n",
    "\t\t# docs.append([n,distance.cdist( vector,v, 'braycurtis')])\n",
    "\t\t# docs.append([n,distance.cdist( vector,v, 'canberra')])\n",
    "\t\t# docs.append([n,distance.cdist( vector,v, 'chebyshev')])\n",
    "\t\t# docs.append([n,distance.cdist( vector,v, 'jaccard')])\n",
    "\t\t# docs.append([n,distance.cdist( vector,v, 'correlation')])\n",
    "# \t\tdocs.append([n,distance.cdist( vector,v, 'sqeuclidean')])\n",
    "# \t\tdocs.append([n,distance.cdist( vector,v, 'cityblock')])\n",
    "\t\tdocs.append([n,distance.cdist( vector,v, 'cosine')])\n",
    "# \t\tdocs.append([n,distance.cdist( vector,v, 'euclidean')])\n",
    "\tdocs.sort(key=lambda x:x[1])\n",
    "\treturn docs"
   ]
  },
  {
   "cell_type": "markdown",
   "metadata": {},
   "source": [
    "Para ejecutar el código usamos el siguiente pedazo de código"
   ]
  },
  {
   "cell_type": "code",
   "execution_count": 2,
   "metadata": {},
   "outputs": [
    {
     "name": "stdout",
     "output_type": "stream",
     "text": [
      "Corpus leido\n",
      "Documentos normalizados\n",
      "Vocabulario obtenido\n",
      "Vectores obtenidosnt 2 must be str, not list\n",
      "Me tarde :  142.5667552947998\n",
      "['dolor_espalda.html ', array([[0.78032679]])]\n",
      "['sacralgia.html ', array([[0.85325697]])]\n",
      "['artritis_reumatoide.html ', array([[0.88211162]])]\n",
      "['espondilitis_anquilosante.html ', array([[0.88287248]])]\n",
      "['ojo_seco.html ', array([[0.89080011]])]\n"
     ]
    }
   ],
   "source": [
    "# funcion=lambda x:1/(1+exp(5*(1-x)))\n",
    "funcion=lambda x:x\n",
    "args=[\"datosLimpios.csv\",\"vectoresExp5.pkl\",\"misSintomas.txt\"] #ejecución si no tenemos los vectores\n",
    "vectores,vocab=crearVectores(args[0],args[1],funcion)\n",
    "dists=predecir(args[2],vectores,vocab,funcion)\n",
    "for d in range(5):\n",
    "\tprint(dists[d])\n",
    "#esto tarda como 3 min"
   ]
  },
  {
   "cell_type": "code",
   "execution_count": 3,
   "metadata": {},
   "outputs": [
    {
     "name": "stdout",
     "output_type": "stream",
     "text": [
      "['dolor_espalda.html ', array([[0.78032679]])]\n",
      "['sacralgia.html ', array([[0.85325697]])]\n",
      "['artritis_reumatoide.html ', array([[0.88211162]])]\n",
      "['espondilitis_anquilosante.html ', array([[0.88287248]])]\n",
      "['ojo_seco.html ', array([[0.89080011]])]\n",
      "['estrabismo.html ', array([[0.8949926]])]\n",
      "['ciatica.html ', array([[0.89587261]])]\n",
      "['cervicitis.html ', array([[0.89873307]])]\n",
      "['hipermetropia.html ', array([[0.90913063]])]\n",
      "['hipotension.html ', array([[0.91832107]])]\n",
      "['enfermedad_mano_pie_boca.html ', array([[0.91973343]])]\n",
      "['sindrome_tunel_carpiano.html ', array([[0.92180831]])]\n",
      "['torticolis.html ', array([[0.92193407]])]\n",
      "['cancer-cabeza-cuello.html ', array([[0.92240652]])]\n",
      "['dismenorrea.html ', array([[0.92493556]])]\n"
     ]
    }
   ],
   "source": [
    "args=[\"vectoresExp5.pkl\",\"misSintomas.txt\"]\n",
    "vectores,vocab=leerVectores(args[0])\n",
    "dists=predecir(args[1],vectores,vocab,funcion)\n",
    "for d in range(15):\n",
    "\tprint(dists[d])"
   ]
  },
  {
   "cell_type": "markdown",
   "metadata": {},
   "source": [
    "## Conclusión\n",
    "Nos da resultados similares a los que se habian obtenido con el Experimento 3, sin embargo los sintomas que fueron probados, corresponden más con la espondilitis anquilosante, "
   ]
  },
  {
   "cell_type": "code",
   "execution_count": 4,
   "metadata": {},
   "outputs": [
    {
     "name": "stdout",
     "output_type": "stream",
     "text": [
      "['fractura_hueso_fatiga.html ', array([[0.81288285]])]\n",
      "['hirsutismo.html ', array([[0.81616539]])]\n",
      "['tos_ferina.html ', array([[0.82460046]])]\n",
      "['sindrome-de-rett.html ', array([[0.85825827]])]\n",
      "['asma.html ', array([[0.86753488]])]\n",
      "['sindrome-hiperestimulacion-ovarica.html ', array([[0.90442022]])]\n",
      "['sindrome-de-fatiga-cronica.html ', array([[0.91539611]])]\n",
      "['silicosis.html ', array([[0.92790926]])]\n",
      "['miastenia_gravis.html ', array([[0.93204193]])]\n",
      "['insuficiencia-cardiaca.html ', array([[0.93245794]])]\n",
      "['edema_pulmonar.html ', array([[0.9424433]])]\n",
      "['sudor_de_manos.html ', array([[0.94917332]])]\n",
      "['paperas.html ', array([[0.95056747]])]\n",
      "['cancer_ovario.html ', array([[0.95751384]])]\n",
      "['epoc.html ', array([[0.95905397]])]\n"
     ]
    }
   ],
   "source": [
    "args=[\"vectoresExp5.pkl\",\"misSintomas2.txt\"] #sintomas alergia\n",
    "dists=predecir(args[1],vectores,vocab,funcion)\n",
    "for d in range(15):\n",
    "\tprint(dists[d])"
   ]
  },
  {
   "cell_type": "code",
   "execution_count": 5,
   "metadata": {},
   "outputs": [
    {
     "name": "stdout",
     "output_type": "stream",
     "text": [
      "['fractura_hueso_fatiga.html ', array([[0.81288285]])]\n",
      "['hirsutismo.html ', array([[0.81616539]])]\n",
      "['tos_ferina.html ', array([[0.82460046]])]\n",
      "['sindrome-de-rett.html ', array([[0.85825827]])]\n",
      "['asma.html ', array([[0.86753488]])]\n",
      "['sindrome-hiperestimulacion-ovarica.html ', array([[0.90442022]])]\n",
      "['sindrome-de-fatiga-cronica.html ', array([[0.91539611]])]\n",
      "['silicosis.html ', array([[0.92790926]])]\n",
      "['miastenia_gravis.html ', array([[0.93204193]])]\n",
      "['insuficiencia-cardiaca.html ', array([[0.93245794]])]\n",
      "['edema_pulmonar.html ', array([[0.9424433]])]\n",
      "['sudor_de_manos.html ', array([[0.94917332]])]\n",
      "['paperas.html ', array([[0.95056747]])]\n",
      "['cancer_ovario.html ', array([[0.95751384]])]\n",
      "['epoc.html ', array([[0.95905397]])]\n"
     ]
    }
   ],
   "source": [
    "args=[\"vectoresExp5.pkl\",\"misSintomas3.txt\"] # sintomas gripe\n",
    "dists=predecir(args[1],vectores,vocab,funcion)\n",
    "for d in range(15):\n",
    "\tprint(dists[d])"
   ]
  },
  {
   "cell_type": "code",
   "execution_count": 6,
   "metadata": {},
   "outputs": [
    {
     "name": "stdout",
     "output_type": "stream",
     "text": [
      "['gripe_porcina.html ', array([[0.71997584]])]\n",
      "['gripe.html ', array([[0.72832763]])]\n",
      "['otitis_media.html ', array([[0.80296828]])]\n",
      "['escarlatina.html ', array([[0.84835831]])]\n",
      "['otitis_externa.html ', array([[0.86049732]])]\n",
      "['fiebre-tifoidea.html ', array([[0.86639654]])]\n",
      "['malaria.html ', array([[0.8679358]])]\n",
      "['legionela.html ', array([[0.87648166]])]\n",
      "['infeccion_rotavirus.html ', array([[0.8843038]])]\n",
      "['resfriado.html ', array([[0.89707004]])]\n",
      "['difteria.html ', array([[0.89824274]])]\n",
      "['bronquiolitis.html ', array([[0.8997844]])]\n",
      "['colera.html ', array([[0.90032382]])]\n",
      "['erisipela.html ', array([[0.90387189]])]\n",
      "['faringitis.html ', array([[0.90976491]])]\n"
     ]
    }
   ],
   "source": [
    "args=[\"vectoresExp5.pkl\",\"prueba.txt\"] #sintomas gripe de otra pagina\n",
    "dists=predecir(args[1],vectores,vocab,funcion)\n",
    "for d in range(15):\n",
    "\tprint(dists[d])"
   ]
  },
  {
   "cell_type": "markdown",
   "metadata": {},
   "source": [
    "Como conclusión puedo decir que este sistema funciona mejor para sintomas con descripciones lo suficientemente grandes, sin embargo a mi parecer tiene un desempeño similar al Experimento 4."
   ]
  }
 ],
 "metadata": {
  "kernelspec": {
   "display_name": "Python 3",
   "language": "python",
   "name": "python3"
  },
  "language_info": {
   "codemirror_mode": {
    "name": "ipython",
    "version": 3
   },
   "file_extension": ".py",
   "mimetype": "text/x-python",
   "name": "python",
   "nbconvert_exporter": "python",
   "pygments_lexer": "ipython3",
   "version": "3.6.7"
  }
 },
 "nbformat": 4,
 "nbformat_minor": 2
}
