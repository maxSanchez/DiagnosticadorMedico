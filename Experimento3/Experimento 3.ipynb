{
 "cells": [
  {
   "cell_type": "markdown",
   "metadata": {},
   "source": [
    "# Tercer experimento\n",
    "En este experimento quise aplicar el Tf-idf y seccionar la palabras que van a ser relevantes para la descripción de las palabras.\n",
    "En esta parte del proyecto ya no voy a conseguir de nuevo el corpus, el corpus debe estar en el archivo csv.\n",
    "Con el siguiente código vamos a obtener los valores Tf-idf, usando la biblioteca sklearn."
   ]
  },
  {
   "cell_type": "code",
   "execution_count": 1,
   "metadata": {},
   "outputs": [],
   "source": [
    "from sklearn.feature_extraction.text import TfidfVectorizer\n",
    "import csv\n",
    "corpus={}\n",
    "with open('datos.csv',\"r\",newline='') as csvfile:\n",
    "\tspamreader = csv.reader(csvfile, delimiter=' ', quotechar='|')\n",
    "\tfor row in spamreader:\n",
    "\t\tcorpus[row[0]]=row[1]\n",
    "vectorizador=TfidfVectorizer(smooth_idf=True,use_idf=True)\n",
    "palabras=vectorizador.fit_transform(corpus.values())\n",
    "feature_names=vectorizador.get_feature_names()"
   ]
  },
  {
   "cell_type": "markdown",
   "metadata": {},
   "source": [
    "Luego con estas funciones vamos a conseguir la info que esta relacionada con el tf-idf"
   ]
  },
  {
   "cell_type": "code",
   "execution_count": 2,
   "metadata": {},
   "outputs": [],
   "source": [
    "def getData(coo_matrix,feature_names):\n",
    "    puntos=[]\n",
    "    for score,idx in zip(coo_matrix.data,coo_matrix.col):\n",
    "        puntos.append((feature_names[idx],score))\n",
    "    puntos.sort(key=lambda x:x[1])\n",
    "    return puntos\n",
    "keywords=getData(palabras.tocoo(),feature_names)\n"
   ]
  },
  {
   "cell_type": "markdown",
   "metadata": {},
   "source": [
    "Luego voy a graficar como estan distribuidas las palabras, se puede ver que aparece la distribución de Zipf."
   ]
  },
  {
   "cell_type": "code",
   "execution_count": 3,
   "metadata": {},
   "outputs": [
    {
     "data": {
      "text/plain": [
       "<Figure size 640x480 with 1 Axes>"
      ]
     },
     "metadata": {},
     "output_type": "display_data"
    }
   ],
   "source": [
    "import matplotlib\n",
    "import matplotlib.pyplot as plt\n",
    "\n",
    "plt.plot(range(len(keywords)),[x[1] for x in keywords], 'r,')\n",
    "plt.axis([-10, len(keywords)*1.1, 0, 1])\n",
    "plt.yscale('linear')\n",
    "plt.grid(True)\n",
    "plt.show()"
   ]
  },
  {
   "cell_type": "markdown",
   "metadata": {},
   "source": [
    "luego cortaré una parte de las palabras ya que los extremos son un poco discontinuos, esto por que quiero usar el criterio del codo(elbow) para discriminar las palabras relevantes de las que no. En el siguiente código voy a cortar el 20% de la parte inferior y el 5% de la parte superior y lo graficaré de nuevo."
   ]
  },
  {
   "cell_type": "code",
   "execution_count": 4,
   "metadata": {},
   "outputs": [
    {
     "data": {
      "image/png": "[encoded data removed]",
      "text/plain": [
       "<Figure size 432x288 with 1 Axes>"
      ]
     },
     "metadata": {
      "needs_background": "light"
     },
     "output_type": "display_data"
    }
   ],
   "source": [
    "limInf=int(len(keywords)*0.2)\n",
    "limSup=int(len(keywords)*0.97)\n",
    "keywords2=keywords[limInf:limSup]\n",
    "plt.plot(range(limInf,limInf+len(keywords2)),\n",
    "    [x[1] for x in keywords2]\n",
    "    , 'r,')\n",
    "plt.axis([-10, len(keywords)*1.1, 0, 1])\n",
    "plt.yscale('linear')\n",
    "plt.grid(True)\n",
    "plt.show()"
   ]
  },
  {
   "cell_type": "markdown",
   "metadata": {},
   "source": [
    "Luego sobre este subconjunto usaré el criterio del codo, con la siguiente función."
   ]
  },
  {
   "cell_type": "code",
   "execution_count": null,
   "metadata": {},
   "outputs": [
    {
     "name": "stdout",
     "output_type": "stream",
     "text": [
      "47482\n",
      "48248\n"
     ]
    }
   ],
   "source": [
    "def getDiff(ant,act,sig):\n",
    "    return ((sig[0]-act[0])*sig[1]+(act[0]-ant[0])*ant[1]-(sig[0]-act[0])*(act[0]-ant[0])*2*act[1])/((sig[0]-act[0])*(act[0]-ant[0])*(sig[0]-ant[0]))\n",
    "\n",
    "def getElbow(puntos):\n",
    "    # Regresa el indice donde esta en codo\n",
    "    diferencias=[]\n",
    "    ant=next(puntos)\n",
    "    act=next(puntos)\n",
    "    for sig in puntos:\n",
    "        diferencias.append(getDiff(ant,act,sig))\n",
    "        ant,act=act,sig\n",
    "    tuplas=[(i,diferencias[i]) for i in range(len(diferencias))]\n",
    "    tuplas.sort(key=lambda x: x[1])\n",
    "    return tuplas[0]\n",
    "codo=list(getElbow(zip(range(len(keywords2)),[x[1] for x in keywords2])))\n",
    "codo[0]+=limInf\n",
    "print(codo[0]-limInf)\n",
    "print(len(keywords2))"
   ]
  },
  {
   "cell_type": "markdown",
   "metadata": {},
   "source": [
    "Luego grafico la parte de las palabras que consideraré relevante. "
   ]
  },
  {
   "cell_type": "code",
   "execution_count": null,
   "metadata": {},
   "outputs": [
    {
     "data": {
      "image/png": "[encoded data removed]",
      "text/plain": [
       "<Figure size 432x288 with 1 Axes>"
      ]
     },
     "metadata": {
      "needs_background": "light"
     },
     "output_type": "display_data"
    }
   ],
   "source": [
    "plt.plot(range(codo[0],codo[0]+len(keywords[codo[0]:])),\n",
    "    [x[1] for x in keywords[codo[0]:]]\n",
    "    , 'r,')\n",
    "plt.axis([-10, len(keywords)*1.1, 0, 1])\n",
    "plt.yscale('linear')\n",
    "plt.grid(True)\n",
    "plt.show()"
   ]
  },
  {
   "cell_type": "markdown",
   "metadata": {},
   "source": [
    "Por último se muestran las 10 palabras más relevantes del corpus"
   ]
  },
  {
   "cell_type": "code",
   "execution_count": null,
   "metadata": {},
   "outputs": [
    {
     "name": "stdout",
     "output_type": "stream",
     "text": [
      "('malaria', 0.8142417850200112)\n",
      "('níquel', 0.8033948847573729)\n",
      "('tobillo', 0.7971971412306091)\n",
      "('urticaria', 0.7943309678824464)\n",
      "('peste', 0.7922154142527724)\n",
      "('sarampión', 0.790719583585367)\n",
      "('lepra', 0.7896523777863795)\n",
      "('enuresis', 0.789555333595977)\n",
      "('ganglión', 0.7883428779978374)\n",
      "('tuberculosis', 0.7832898984179828)\n"
     ]
    }
   ],
   "source": [
    "for i in range(10):\n",
    "    print(keywords[-i-1])"
   ]
  },
  {
   "cell_type": "markdown",
   "metadata": {},
   "source": [
    "Ya al final estas palabras estarán guardadas en la variable keywords."
   ]
  },
  {
   "cell_type": "code",
   "execution_count": null,
   "metadata": {},
   "outputs": [],
   "source": [
    "ignoradas=keywords[:codo[0]]\n",
    "keywords=keywords[codo[0]:]"
   ]
  },
  {
   "cell_type": "markdown",
   "metadata": {},
   "source": [
    "Ahora voy a sacar vectores de los vectores que describen las palabras relevantes para nuestro corpus, con el siguiente código cargamos el set de vectores:"
   ]
  },
  {
   "cell_type": "code",
   "execution_count": null,
   "metadata": {},
   "outputs": [],
   "source": [
    "from gensim.models.keyedvectors import KeyedVectors\n",
    "import numpy as np\n",
    "wordvectors_file_vec = 'fasttext-sbwc.3.6.e20.vec.gz'\n",
    "cantidad = 100000\n",
    "num_features=300\n",
    "wordvectors = KeyedVectors.load_word2vec_format(wordvectors_file_vec, limit=cantidad)"
   ]
  },
  {
   "cell_type": "markdown",
   "metadata": {},
   "source": [
    "Con el siguiente código se va a convertir a vectores:"
   ]
  },
  {
   "cell_type": "code",
   "execution_count": null,
   "metadata": {},
   "outputs": [
    {
     "name": "stdout",
     "output_type": "stream",
     "text": [
      "No conozco neumococos, dime a que otra palabra se parece: bacteria infección neumonía\n",
      "No conozco descamativa, dime a que otra palabra se parece: escascaramiento capas piel\n",
      "No conozco escascaramiento, dime a que otra palabra se parece: desprendimiento\n",
      "No conozco angioedema, dime a que otra palabra se parece: edema\n",
      "No conozco pertussis, dime a que otra palabra se parece: tosferina\n",
      "No conozco tosferina, dime a que otra palabra se parece: resfriado tos leve fiebre apnea vómito agotamiento vacuna\n",
      "No conozco reumáticas, dime a que otra palabra se parece: reumatica\n",
      "No conozco reumatica, dime a que otra palabra se parece: reumática\n",
      "No conozco actínicas, dime a que otra palabra se parece: precancer de la piel \n",
      "No conozco precancer, dime a que otra palabra se parece: previo cancer\n"
     ]
    }
   ],
   "source": [
    "def VectorSimilar(palabras):\n",
    "    global wordvectors\n",
    "    global ignoradas\n",
    "    acum=np.zeros(300)\n",
    "    for p in palabras:\n",
    "        if p not in ignoradas:\n",
    "            try:\n",
    "                acum=np.add(acum,wordvectors[p])\n",
    "            except:\n",
    "                palabraAux=input(\"No conozco \"+str(p)+\", dime a que otra palabra se parece: \")\n",
    "                acum=np.add(acum,VectorSimilar(palabraAux.split()))\n",
    "    aux=np.add(acum,np.random.rand(300))\n",
    "    print(aux)\n",
    "    return aux\n",
    "\n",
    "\n",
    "vectores=[]\n",
    "for i in keywords:\n",
    "    try:\n",
    "        vectores.append(wordvectors[i[0]])\n",
    "    except:\n",
    "        palabraAux=input(\"No conozco \"+str(i[0])+\", dime a que otra palabra se parece: \")\n",
    "        vectores.append(VectorSimilar(palabraAux.split()))"
   ]
  },
  {
   "cell_type": "code",
   "execution_count": null,
   "metadata": {},
   "outputs": [],
   "source": [
    "print(vectores)"
   ]
  },
  {
   "cell_type": "markdown",
   "metadata": {},
   "source": [
    "# Interrupción del experimento 3\n",
    "Como se vio el experimento 3, trataba de solucionar las palabras que los embeddings desconocian, sin embargo para esto debia de introducir manualmente, puede ser por un documento, las palabras que están relacionadas con esta palabra en lugar de hacer esto automáticamente como se hace en los siguientes experimentos, esto tiene la desventaja que las palabras dependerán estáticamente de las otras palabras que según mi parecer describan esa palabra por esta razón aunque una palabra sea más importante en la descripción, el vector se inclinará por irse a la mitad."
   ]
  }
 ],
 "metadata": {
  "kernelspec": {
   "display_name": "Python 3",
   "language": "python",
   "name": "python3"
  },
  "language_info": {
   "codemirror_mode": {
    "name": "ipython",
    "version": 3
   },
   "file_extension": ".py",
   "mimetype": "text/x-python",
   "name": "python",
   "nbconvert_exporter": "python",
   "pygments_lexer": "ipython3",
   "version": "3.6.7"
  }
 },
 "nbformat": 4,
 "nbformat_minor": 2
}
